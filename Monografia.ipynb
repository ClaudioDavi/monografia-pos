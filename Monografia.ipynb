{
 "cells": [
  {
   "cell_type": "markdown",
   "metadata": {
    "toc-hr-collapsed": false
   },
   "source": [
    "# Introdução"
   ]
  },
  {
   "cell_type": "markdown",
   "metadata": {},
   "source": [
    "O sucesso de uma indústria pode ser calculado a partir dos KPIs (*Key Performance Indicator*) desenvolvidos pela mesma. Porém diferente de muitos outros setores, a industria tem poucos KPIs relacionados à cadeia de suprimentos e mesmo os existentes não são difundidos dentre as mesmas. Pouco se sabe sobre processos e criação de KPIs diretamente relacionados à cadeia de suprimentos nas industrias situadas em paises em desenvolvimento [@chae2009developing]."
   ]
  },
  {
   "cell_type": "markdown",
   "metadata": {},
   "source": [
    "Um dos problemas da industria alimentícia, principalmente a de produtos perecíveis, é como calcular a quantidade de cada SKU (*Stock Keeping Unit*) a ser fabricada nos próximos meses; já que o estoque,  além de capital parado, corre o risco de não chegar às prateleiras do comércio. Quando este chega, tem seu tempo de prateleira significantemente reduzido. Em contrapartida, fabricar produtos abaixo da demanda do mercado leva a perda de receita [@aburto2007improved], Portanto um balanço deve ser atingido.\n",
    "\n",
    "Visto que um pedido de matéria prima - sendo ele superior à demanda do mercado para o mesmo período -  feita à um fornecedor pode trazer prejuízos para uma industria, todo seu planejamento deve ser cuidadosamente calculado para evitar disperdícios, assim como o planejamento do fornecedor e de toda a cadeia afetada. Dessa forma, grupo de empresas pode se tornar interdependente por ser afetado pelas decisões daqueles que fazem parte da mesma cadeia.\n",
    "\n",
    "Grande parte das industrias produtoras de alimento em países em desenvolvimento, ainda utilizam sistemas arcaicos em conjunto com predições intuitivas para projetar sua produção. Quando a demanda é sazonal, é ainda mais dificil de calcular a produção de SKUs, causando as perdas mencionadas anteriormente [@yenradee2001demand]. Os problemas supracitados sugerem uma avaliação das técnicas atuais de previsão de demanda visando a perspectiva da industria."
   ]
  },
  {
   "cell_type": "markdown",
   "metadata": {},
   "source": [
    "## Objetivos\n",
    "Este trabalho tem como objetivo avaliar as técnicas atuais de previsão de demanda em uma cadeia de suprimentos com foco na visão da industria produtora, visando auxiliar a industria a gerenciar sua produção futura baseada nas suas vendas.\n",
    "Os objetivos específicos desse trabalho incluem:\n",
    "\n",
    "* Identificar as técnicas de previsão de demanda recomendads pelo meio acadêmico e utilizadas na industria\n",
    "* Identificar os dados utilizados para fazer a previsão de demanda.\n",
    "\n",
    "## Organização do Trabalho\n",
    "Este trabalho será organizado como descrito a seguir:\n",
    "\n",
    "* O Capítulo [Fundamentação Teórica](#Fundamentacao-Teorica) descreve os conceitos de [Cadeia de Suprimentos](#Cadeia-de-Suprimentos), [Aprendizado de Maquina](#Aprendizado-de-Maquina) e [Previsão em Séries Temporais](#Calculos-de-Previsão-de-Séries-Temporais)\n",
    "* O capitulo [Revisão da Literatura](#Revisão-da-Literatura) apresenta o mapeamento sistemático da literatura visando obter os trabalhos relacionados a este."
   ]
  },
  {
   "cell_type": "markdown",
   "metadata": {},
   "source": [
    "# Fundamentacao Teorica \n",
    "\n",
    "Neste capítulo, serão explorados os conceitos utilizados nesse trabalho, dentre eles conceitos específicos sobre uma cadeia de suprimentos  e sobre aprendizado de máquina, em específico análise de séries temporais.\n",
    "\n",
    "## Cadeia de Suprimentos\n",
    "Segundo [@mentzer2001defining] uma cadeia de suprimentos pode ser definida como  a coordenação sistêmica e estratégica  das funções de negócio dentro de uma empresa ou de um grupo de empresas. Estas com o propósito de melhorar o desempenho comercial das partes envolvidas.\n",
    "\n",
    "Com a definição acima, podemos visualizar a cadeia de suprimentos como um *pipeline* multi direcional, onde o fluxo de informação e de produtos flui entre os membros de uma mesma cadeia. Se torna aqui, importante salientar que não se pode confundir logística com cadeia de suprimentos, ainda segundo [@mentzer2001defining] logística é a parte do processo da cadeia de suprimentos que implementa e controla o fluxo de produtos, serviços e informações relacionadas. Portanto, a logística pode ser vista como uma das funções dentro de uma cadeia de suprimentos.\n",
    "\n",
    "A estrutura do pipeline de uma cadeia de suprimentos engloba as empresas membros e as coneções entre elas. Essas coneções podem ser negócios e as práticas de negócios associadas a cada ponto de valor entregue para seus clientes. Um distribuidor não apenas oferece valor para a industria que o contrata mas como também para o ponto de venda ao qual faz suas entregas. Embora seja bastante dificil encontrar industrias que participam de apenas uma cadeia de suprimentos. Transformando o conceito de *pipeline* em um grafo com diversos nós para ambos os lados.\n",
    "\n",
    "\n",
    "\n"
   ]
  },
  {
   "cell_type": "markdown",
   "metadata": {},
   "source": [
    "## Aprendizado de Maquina\n",
    "\n",
    "O conceito de aprendizado de máquina deriva do conceito psicologico de aprendizado. Enquanto na psicologia e biologia se aprende através de experiências, computadores aprendem a partir de dados. Diversos modelos de aprendizado de maquina tentou ao longo dos anos reproduzir a maneira como funciona o aprendizado biológico, e hoje inclusive, são modelos bastante difundidos, como por exemplo, algoritmos genéticos - que são baseados em evolução - e também algoritmos de redes neurais artificiais, baseados na comunicação entre neurônios biológicos [@marsland2009].\n",
    "\n",
    "Como consequência do aprendizado a partir de dados e algoritmos, existem diferentes técnicas e abordagens para problemas de aprendizado de máquina, sendo hoje um rico campo de pesquisa. A literatura ([@marsland2009], [@samut2011]) separa o aprendizado de máquina em 4 categorias principais:\n",
    "\n",
    "* **Aprendizado Supervisionado**: São algoritmos que aprendem via a diferença de erro entre entrada e saída. A saída deve ser conhecida e fornecida na etapa de treinamento (aprendizado). Após isso, o algoritmo pode ser utilizado para realizar predições. Problemas clássicos que podem ser resolvidos com aprendizado supervisionado é a previsão de preços de imóveis em um período de tempo.\n",
    "* **Aprendizado Não-Supervisionado**: Diferente do aprendizado supervisionado, as saídas dos modelos não-supervisionados não são conhecidas na etapa de treinamento. Desta forma, se sobressaem algoritmos de classificação e agrupamento para entradas de dados similares.\n",
    "* **Aprendizado Por Reforço**: Um algoritmo de aprendizado por reforço pode ser descrito como uma espécie de hibrido entre supervisionado e não-supervisionado. O algoritmo recebe apenas um feedback em seu treinamento caso a resposta foi correta ou não, tendo que testar diferentes alternativas e estratégias para corrigir seu caminho. Exemplos de aprendizado por reforço são treinamentos para jogos eletrônicos, os casos mais conhecidos atualmente são *AlphaGo* e o time de Dota *OpenAI Five*.\n",
    "* **Aprendizado por Evolução**: O conceito de aprendizado por evolução vem do ponto de vista biologico neo-Darwiniano onde a partir de uma dada população, apenas os membros mais adaptados para aquele ambiente sobrevivem. No caso do aprendizado de máquina, são criadas populações de possíveis soluções para um devido problema e a seleção vem a partir de uma função de *fitness* (adaptação) Essa função define quais são as melhores soluções do conjunto populacional. Assim como seu equivalente biológico, a evolução de máquina também carrega conceitos de mutação, reprodução, seleção e recombinação.\n",
    "\n",
    "Dentre os conceitos apresentados, o que mais se aplica ao problema em mãos é o aprendizado supervisionado, e sua subcategoria a previsão de séries temporais. Paratanto será aprofundado o conceito de séries temporais a seguir."
   ]
  },
  {
   "cell_type": "markdown",
   "metadata": {},
   "source": [
    "### Calculos de Previsão de Séries Temporais\n",
    "Séries temporais ............."
   ]
  },
  {
   "cell_type": "markdown",
   "metadata": {},
   "source": [
    "# Revisão da Literatura"
   ]
  }
 ],
 "metadata": {
  "kernelspec": {
   "display_name": "tcc",
   "language": "python",
   "name": "tcc"
  },
  "language_info": {
   "codemirror_mode": {
    "name": "ipython",
    "version": 3
   },
   "file_extension": ".py",
   "mimetype": "text/x-python",
   "name": "python",
   "nbconvert_exporter": "python",
   "pygments_lexer": "ipython3",
   "version": "3.7.4"
  },
  "toc-autonumbering": true,
  "toc-showmarkdowntxt": false
 },
 "nbformat": 4,
 "nbformat_minor": 4
}
